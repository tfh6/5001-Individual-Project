{
 "cells": [
  {
   "cell_type": "code",
   "execution_count": 1,
   "id": "8fd28fe6",
   "metadata": {},
   "outputs": [],
   "source": [
    "import numpy as np\n",
    "import matplotlib.pyplot as plt\n",
    "import matplotlib as mpl\n",
    "from sklearn import neighbors\n",
    "from sklearn.utils import shuffle\n",
    "from sklearn.linear_model import LinearRegression, LogisticRegression\n",
    "from sklearn.model_selection import train_test_split, cross_val_predict\n",
    "from sklearn.model_selection import cross_val_score, GridSearchCV\n",
    "import xgboost as xgb\n",
    "from xgboost import XGBRegressor\n",
    "from xgboost import XGBClassifier\n",
    "from sklearn import datasets\n",
    "from sklearn import metrics\n",
    "import pandas as pd\n",
    "from sklearn.metrics import accuracy_score\n",
    "from sklearn.ensemble import RandomForestClassifier"
   ]
  },
  {
   "cell_type": "markdown",
   "id": "82571913",
   "metadata": {},
   "source": [
    "## i. Load Data"
   ]
  },
  {
   "cell_type": "code",
   "execution_count": 2,
   "id": "a4550fcd",
   "metadata": {
    "scrolled": true
   },
   "outputs": [
    {
     "data": {
      "text/html": [
       "<div>\n",
       "<style scoped>\n",
       "    .dataframe tbody tr th:only-of-type {\n",
       "        vertical-align: middle;\n",
       "    }\n",
       "\n",
       "    .dataframe tbody tr th {\n",
       "        vertical-align: top;\n",
       "    }\n",
       "\n",
       "    .dataframe thead th {\n",
       "        text-align: right;\n",
       "    }\n",
       "</style>\n",
       "<table border=\"1\" class=\"dataframe\">\n",
       "  <thead>\n",
       "    <tr style=\"text-align: right;\">\n",
       "      <th></th>\n",
       "      <th>id</th>\n",
       "      <th>MO HLADR+ MFI (cells/ul)</th>\n",
       "      <th>Neu CD64+MFI (cells/ul)</th>\n",
       "      <th>CD3+T (cells/ul)</th>\n",
       "      <th>CD8+T (cells/ul)</th>\n",
       "      <th>CD4+T (cells/ul)</th>\n",
       "      <th>NK (cells/ul)</th>\n",
       "      <th>CD19+ (cells/ul)</th>\n",
       "      <th>CD45+ (cells/ul)</th>\n",
       "      <th>Age</th>\n",
       "      <th>Sex 0M1F</th>\n",
       "      <th>Mono CD64+MFI (cells/ul)</th>\n",
       "      <th>label</th>\n",
       "    </tr>\n",
       "  </thead>\n",
       "  <tbody>\n",
       "    <tr>\n",
       "      <th>0</th>\n",
       "      <td>0</td>\n",
       "      <td>3556.0</td>\n",
       "      <td>2489.0</td>\n",
       "      <td>265.19</td>\n",
       "      <td>77.53</td>\n",
       "      <td>176.55</td>\n",
       "      <td>0.00</td>\n",
       "      <td>4.20</td>\n",
       "      <td>307.91</td>\n",
       "      <td>52</td>\n",
       "      <td>0</td>\n",
       "      <td>7515.0</td>\n",
       "      <td>1</td>\n",
       "    </tr>\n",
       "    <tr>\n",
       "      <th>1</th>\n",
       "      <td>1</td>\n",
       "      <td>1906.0</td>\n",
       "      <td>134.0</td>\n",
       "      <td>1442.61</td>\n",
       "      <td>551.90</td>\n",
       "      <td>876.07</td>\n",
       "      <td>112.10</td>\n",
       "      <td>168.15</td>\n",
       "      <td>1735.48</td>\n",
       "      <td>20</td>\n",
       "      <td>1</td>\n",
       "      <td>1756.0</td>\n",
       "      <td>0</td>\n",
       "    </tr>\n",
       "    <tr>\n",
       "      <th>2</th>\n",
       "      <td>2</td>\n",
       "      <td>1586.0</td>\n",
       "      <td>71.0</td>\n",
       "      <td>1332.74</td>\n",
       "      <td>684.20</td>\n",
       "      <td>655.26</td>\n",
       "      <td>244.95</td>\n",
       "      <td>216.52</td>\n",
       "      <td>1820.04</td>\n",
       "      <td>28</td>\n",
       "      <td>1</td>\n",
       "      <td>1311.0</td>\n",
       "      <td>0</td>\n",
       "    </tr>\n",
       "    <tr>\n",
       "      <th>3</th>\n",
       "      <td>3</td>\n",
       "      <td>683.0</td>\n",
       "      <td>94.0</td>\n",
       "      <td>419.23</td>\n",
       "      <td>255.80</td>\n",
       "      <td>162.17</td>\n",
       "      <td>72.05</td>\n",
       "      <td>44.68</td>\n",
       "      <td>538.22</td>\n",
       "      <td>55</td>\n",
       "      <td>1</td>\n",
       "      <td>1443.0</td>\n",
       "      <td>0</td>\n",
       "    </tr>\n",
       "    <tr>\n",
       "      <th>4</th>\n",
       "      <td>4</td>\n",
       "      <td>1032.0</td>\n",
       "      <td>71.0</td>\n",
       "      <td>1102.72</td>\n",
       "      <td>480.27</td>\n",
       "      <td>625.30</td>\n",
       "      <td>188.78</td>\n",
       "      <td>130.77</td>\n",
       "      <td>1427.97</td>\n",
       "      <td>28</td>\n",
       "      <td>1</td>\n",
       "      <td>1542.0</td>\n",
       "      <td>0</td>\n",
       "    </tr>\n",
       "  </tbody>\n",
       "</table>\n",
       "</div>"
      ],
      "text/plain": [
       "   id  MO HLADR+ MFI (cells/ul)  Neu CD64+MFI (cells/ul)  CD3+T (cells/ul)  \\\n",
       "0   0                    3556.0                   2489.0            265.19   \n",
       "1   1                    1906.0                    134.0           1442.61   \n",
       "2   2                    1586.0                     71.0           1332.74   \n",
       "3   3                     683.0                     94.0            419.23   \n",
       "4   4                    1032.0                     71.0           1102.72   \n",
       "\n",
       "   CD8+T (cells/ul)  CD4+T (cells/ul)  NK (cells/ul)  CD19+ (cells/ul)  \\\n",
       "0             77.53            176.55           0.00              4.20   \n",
       "1            551.90            876.07         112.10            168.15   \n",
       "2            684.20            655.26         244.95            216.52   \n",
       "3            255.80            162.17          72.05             44.68   \n",
       "4            480.27            625.30         188.78            130.77   \n",
       "\n",
       "   CD45+ (cells/ul)  Age  Sex 0M1F  Mono CD64+MFI (cells/ul)  label  \n",
       "0            307.91   52         0                    7515.0      1  \n",
       "1           1735.48   20         1                    1756.0      0  \n",
       "2           1820.04   28         1                    1311.0      0  \n",
       "3            538.22   55         1                    1443.0      0  \n",
       "4           1427.97   28         1                    1542.0      0  "
      ]
     },
     "execution_count": 2,
     "metadata": {},
     "output_type": "execute_result"
    }
   ],
   "source": [
    "train = pd.read_csv('data/train.csv')\n",
    "train.head()"
   ]
  },
  {
   "cell_type": "code",
   "execution_count": 3,
   "id": "75580ac3",
   "metadata": {},
   "outputs": [],
   "source": [
    "train = train.drop(columns=['id'])"
   ]
  },
  {
   "cell_type": "code",
   "execution_count": 4,
   "id": "381f868e",
   "metadata": {},
   "outputs": [
    {
     "data": {
      "text/html": [
       "<div>\n",
       "<style scoped>\n",
       "    .dataframe tbody tr th:only-of-type {\n",
       "        vertical-align: middle;\n",
       "    }\n",
       "\n",
       "    .dataframe tbody tr th {\n",
       "        vertical-align: top;\n",
       "    }\n",
       "\n",
       "    .dataframe thead th {\n",
       "        text-align: right;\n",
       "    }\n",
       "</style>\n",
       "<table border=\"1\" class=\"dataframe\">\n",
       "  <thead>\n",
       "    <tr style=\"text-align: right;\">\n",
       "      <th></th>\n",
       "      <th>label</th>\n",
       "    </tr>\n",
       "  </thead>\n",
       "  <tbody>\n",
       "    <tr>\n",
       "      <th>0</th>\n",
       "      <td>1</td>\n",
       "    </tr>\n",
       "    <tr>\n",
       "      <th>1</th>\n",
       "      <td>0</td>\n",
       "    </tr>\n",
       "    <tr>\n",
       "      <th>2</th>\n",
       "      <td>0</td>\n",
       "    </tr>\n",
       "    <tr>\n",
       "      <th>3</th>\n",
       "      <td>0</td>\n",
       "    </tr>\n",
       "    <tr>\n",
       "      <th>4</th>\n",
       "      <td>0</td>\n",
       "    </tr>\n",
       "  </tbody>\n",
       "</table>\n",
       "</div>"
      ],
      "text/plain": [
       "   label\n",
       "0      1\n",
       "1      0\n",
       "2      0\n",
       "3      0\n",
       "4      0"
      ]
     },
     "execution_count": 4,
     "metadata": {},
     "output_type": "execute_result"
    }
   ],
   "source": [
    "label = pd.DataFrame(train.label)\n",
    "label.head()"
   ]
  },
  {
   "cell_type": "code",
   "execution_count": 5,
   "id": "007989dc",
   "metadata": {},
   "outputs": [
    {
     "data": {
      "text/html": [
       "<div>\n",
       "<style scoped>\n",
       "    .dataframe tbody tr th:only-of-type {\n",
       "        vertical-align: middle;\n",
       "    }\n",
       "\n",
       "    .dataframe tbody tr th {\n",
       "        vertical-align: top;\n",
       "    }\n",
       "\n",
       "    .dataframe thead th {\n",
       "        text-align: right;\n",
       "    }\n",
       "</style>\n",
       "<table border=\"1\" class=\"dataframe\">\n",
       "  <thead>\n",
       "    <tr style=\"text-align: right;\">\n",
       "      <th></th>\n",
       "      <th>MO HLADR+ MFI (cells/ul)</th>\n",
       "      <th>Neu CD64+MFI (cells/ul)</th>\n",
       "      <th>CD3+T (cells/ul)</th>\n",
       "      <th>CD8+T (cells/ul)</th>\n",
       "      <th>CD4+T (cells/ul)</th>\n",
       "      <th>NK (cells/ul)</th>\n",
       "      <th>CD19+ (cells/ul)</th>\n",
       "      <th>CD45+ (cells/ul)</th>\n",
       "      <th>Age</th>\n",
       "      <th>Sex 0M1F</th>\n",
       "      <th>Mono CD64+MFI (cells/ul)</th>\n",
       "    </tr>\n",
       "  </thead>\n",
       "  <tbody>\n",
       "    <tr>\n",
       "      <th>0</th>\n",
       "      <td>3556.0</td>\n",
       "      <td>2489.0</td>\n",
       "      <td>265.19</td>\n",
       "      <td>77.53</td>\n",
       "      <td>176.55</td>\n",
       "      <td>0.00</td>\n",
       "      <td>4.20</td>\n",
       "      <td>307.91</td>\n",
       "      <td>52</td>\n",
       "      <td>0</td>\n",
       "      <td>7515.0</td>\n",
       "    </tr>\n",
       "    <tr>\n",
       "      <th>1</th>\n",
       "      <td>1906.0</td>\n",
       "      <td>134.0</td>\n",
       "      <td>1442.61</td>\n",
       "      <td>551.90</td>\n",
       "      <td>876.07</td>\n",
       "      <td>112.10</td>\n",
       "      <td>168.15</td>\n",
       "      <td>1735.48</td>\n",
       "      <td>20</td>\n",
       "      <td>1</td>\n",
       "      <td>1756.0</td>\n",
       "    </tr>\n",
       "    <tr>\n",
       "      <th>2</th>\n",
       "      <td>1586.0</td>\n",
       "      <td>71.0</td>\n",
       "      <td>1332.74</td>\n",
       "      <td>684.20</td>\n",
       "      <td>655.26</td>\n",
       "      <td>244.95</td>\n",
       "      <td>216.52</td>\n",
       "      <td>1820.04</td>\n",
       "      <td>28</td>\n",
       "      <td>1</td>\n",
       "      <td>1311.0</td>\n",
       "    </tr>\n",
       "    <tr>\n",
       "      <th>3</th>\n",
       "      <td>683.0</td>\n",
       "      <td>94.0</td>\n",
       "      <td>419.23</td>\n",
       "      <td>255.80</td>\n",
       "      <td>162.17</td>\n",
       "      <td>72.05</td>\n",
       "      <td>44.68</td>\n",
       "      <td>538.22</td>\n",
       "      <td>55</td>\n",
       "      <td>1</td>\n",
       "      <td>1443.0</td>\n",
       "    </tr>\n",
       "    <tr>\n",
       "      <th>4</th>\n",
       "      <td>1032.0</td>\n",
       "      <td>71.0</td>\n",
       "      <td>1102.72</td>\n",
       "      <td>480.27</td>\n",
       "      <td>625.30</td>\n",
       "      <td>188.78</td>\n",
       "      <td>130.77</td>\n",
       "      <td>1427.97</td>\n",
       "      <td>28</td>\n",
       "      <td>1</td>\n",
       "      <td>1542.0</td>\n",
       "    </tr>\n",
       "  </tbody>\n",
       "</table>\n",
       "</div>"
      ],
      "text/plain": [
       "   MO HLADR+ MFI (cells/ul)  Neu CD64+MFI (cells/ul)  CD3+T (cells/ul)  \\\n",
       "0                    3556.0                   2489.0            265.19   \n",
       "1                    1906.0                    134.0           1442.61   \n",
       "2                    1586.0                     71.0           1332.74   \n",
       "3                     683.0                     94.0            419.23   \n",
       "4                    1032.0                     71.0           1102.72   \n",
       "\n",
       "   CD8+T (cells/ul)  CD4+T (cells/ul)  NK (cells/ul)  CD19+ (cells/ul)  \\\n",
       "0             77.53            176.55           0.00              4.20   \n",
       "1            551.90            876.07         112.10            168.15   \n",
       "2            684.20            655.26         244.95            216.52   \n",
       "3            255.80            162.17          72.05             44.68   \n",
       "4            480.27            625.30         188.78            130.77   \n",
       "\n",
       "   CD45+ (cells/ul)  Age  Sex 0M1F  Mono CD64+MFI (cells/ul)  \n",
       "0            307.91   52         0                    7515.0  \n",
       "1           1735.48   20         1                    1756.0  \n",
       "2           1820.04   28         1                    1311.0  \n",
       "3            538.22   55         1                    1443.0  \n",
       "4           1427.97   28         1                    1542.0  "
      ]
     },
     "execution_count": 5,
     "metadata": {},
     "output_type": "execute_result"
    }
   ],
   "source": [
    "train = train.drop(columns=['label'])\n",
    "train.head()"
   ]
  },
  {
   "cell_type": "code",
   "execution_count": 6,
   "id": "c44bbea3",
   "metadata": {},
   "outputs": [
    {
     "data": {
      "text/html": [
       "<div>\n",
       "<style scoped>\n",
       "    .dataframe tbody tr th:only-of-type {\n",
       "        vertical-align: middle;\n",
       "    }\n",
       "\n",
       "    .dataframe tbody tr th {\n",
       "        vertical-align: top;\n",
       "    }\n",
       "\n",
       "    .dataframe thead th {\n",
       "        text-align: right;\n",
       "    }\n",
       "</style>\n",
       "<table border=\"1\" class=\"dataframe\">\n",
       "  <thead>\n",
       "    <tr style=\"text-align: right;\">\n",
       "      <th></th>\n",
       "      <th>MO HLADR+ MFI (cells/ul)</th>\n",
       "      <th>Neu CD64+MFI (cells/ul)</th>\n",
       "      <th>CD3+T (cells/ul)</th>\n",
       "      <th>CD8+T (cells/ul)</th>\n",
       "      <th>CD4+T (cells/ul)</th>\n",
       "      <th>NK (cells/ul)</th>\n",
       "      <th>CD19+ (cells/ul)</th>\n",
       "      <th>CD45+ (cells/ul)</th>\n",
       "      <th>Age</th>\n",
       "      <th>Sex 0M1F</th>\n",
       "      <th>Mono CD64+MFI (cells/ul)</th>\n",
       "    </tr>\n",
       "  </thead>\n",
       "  <tbody>\n",
       "    <tr>\n",
       "      <th>0</th>\n",
       "      <td>2843.0</td>\n",
       "      <td>156.0</td>\n",
       "      <td>1358.52</td>\n",
       "      <td>730.78</td>\n",
       "      <td>637.85</td>\n",
       "      <td>127.06</td>\n",
       "      <td>94.82</td>\n",
       "      <td>1588.62</td>\n",
       "      <td>45</td>\n",
       "      <td>1</td>\n",
       "      <td>3256.0</td>\n",
       "    </tr>\n",
       "    <tr>\n",
       "      <th>1</th>\n",
       "      <td>437.0</td>\n",
       "      <td>137.0</td>\n",
       "      <td>509.43</td>\n",
       "      <td>268.05</td>\n",
       "      <td>243.07</td>\n",
       "      <td>390.86</td>\n",
       "      <td>98.24</td>\n",
       "      <td>1002.76</td>\n",
       "      <td>51</td>\n",
       "      <td>1</td>\n",
       "      <td>491.0</td>\n",
       "    </tr>\n",
       "    <tr>\n",
       "      <th>2</th>\n",
       "      <td>826.0</td>\n",
       "      <td>82.0</td>\n",
       "      <td>1232.22</td>\n",
       "      <td>493.42</td>\n",
       "      <td>744.08</td>\n",
       "      <td>516.28</td>\n",
       "      <td>320.15</td>\n",
       "      <td>2200.58</td>\n",
       "      <td>32</td>\n",
       "      <td>0</td>\n",
       "      <td>1381.0</td>\n",
       "    </tr>\n",
       "    <tr>\n",
       "      <th>3</th>\n",
       "      <td>861.0</td>\n",
       "      <td>50.0</td>\n",
       "      <td>1512.86</td>\n",
       "      <td>925.51</td>\n",
       "      <td>590.07</td>\n",
       "      <td>380.25</td>\n",
       "      <td>25.80</td>\n",
       "      <td>1929.10</td>\n",
       "      <td>50</td>\n",
       "      <td>0</td>\n",
       "      <td>1377.0</td>\n",
       "    </tr>\n",
       "    <tr>\n",
       "      <th>4</th>\n",
       "      <td>1160.0</td>\n",
       "      <td>157.0</td>\n",
       "      <td>890.42</td>\n",
       "      <td>403.91</td>\n",
       "      <td>489.53</td>\n",
       "      <td>266.92</td>\n",
       "      <td>87.63</td>\n",
       "      <td>1251.52</td>\n",
       "      <td>43</td>\n",
       "      <td>0</td>\n",
       "      <td>1844.0</td>\n",
       "    </tr>\n",
       "  </tbody>\n",
       "</table>\n",
       "</div>"
      ],
      "text/plain": [
       "   MO HLADR+ MFI (cells/ul)  Neu CD64+MFI (cells/ul)  CD3+T (cells/ul)  \\\n",
       "0                    2843.0                    156.0           1358.52   \n",
       "1                     437.0                    137.0            509.43   \n",
       "2                     826.0                     82.0           1232.22   \n",
       "3                     861.0                     50.0           1512.86   \n",
       "4                    1160.0                    157.0            890.42   \n",
       "\n",
       "   CD8+T (cells/ul)  CD4+T (cells/ul)  NK (cells/ul)  CD19+ (cells/ul)  \\\n",
       "0            730.78            637.85         127.06             94.82   \n",
       "1            268.05            243.07         390.86             98.24   \n",
       "2            493.42            744.08         516.28            320.15   \n",
       "3            925.51            590.07         380.25             25.80   \n",
       "4            403.91            489.53         266.92             87.63   \n",
       "\n",
       "   CD45+ (cells/ul)  Age  Sex 0M1F  Mono CD64+MFI (cells/ul)  \n",
       "0           1588.62   45         1                    3256.0  \n",
       "1           1002.76   51         1                     491.0  \n",
       "2           2200.58   32         0                    1381.0  \n",
       "3           1929.10   50         0                    1377.0  \n",
       "4           1251.52   43         0                    1844.0  "
      ]
     },
     "execution_count": 6,
     "metadata": {},
     "output_type": "execute_result"
    }
   ],
   "source": [
    "test = pd.read_csv('test.csv')\n",
    "test = test.drop(columns=['id'])\n",
    "test.head()"
   ]
  },
  {
   "cell_type": "markdown",
   "id": "0f4b60df",
   "metadata": {},
   "source": [
    "## ii. Data Engineering"
   ]
  },
  {
   "cell_type": "code",
   "execution_count": 7,
   "id": "cbced6a2",
   "metadata": {},
   "outputs": [
    {
     "data": {
      "text/plain": [
       "['MO HLADR+ MFI (cells/ul)',\n",
       " 'Neu CD64+MFI (cells/ul)',\n",
       " 'CD3+T (cells/ul)',\n",
       " 'CD8+T (cells/ul)',\n",
       " 'CD4+T (cells/ul)',\n",
       " 'NK (cells/ul)',\n",
       " 'CD19+ (cells/ul)',\n",
       " 'CD45+ (cells/ul)',\n",
       " 'Age',\n",
       " 'Sex 0M1F',\n",
       " 'Mono CD64+MFI (cells/ul)']"
      ]
     },
     "execution_count": 7,
     "metadata": {},
     "output_type": "execute_result"
    }
   ],
   "source": [
    "numerical_fea = list(train.select_dtypes(exclude=['object']).columns)\n",
    "numerical_fea"
   ]
  },
  {
   "cell_type": "code",
   "execution_count": 8,
   "id": "54d663bd",
   "metadata": {},
   "outputs": [
    {
     "data": {
      "text/plain": [
       "[]"
      ]
     },
     "execution_count": 8,
     "metadata": {},
     "output_type": "execute_result"
    }
   ],
   "source": [
    "category_fea = list(filter(lambda x: x not in numerical_fea,list(train.columns)))\n",
    "category_fea"
   ]
  },
  {
   "cell_type": "code",
   "execution_count": 9,
   "id": "b8209bb4",
   "metadata": {},
   "outputs": [
    {
     "data": {
      "text/plain": [
       "MO HLADR+ MFI (cells/ul)    0\n",
       "Neu CD64+MFI (cells/ul)     0\n",
       "CD3+T (cells/ul)            0\n",
       "CD8+T (cells/ul)            0\n",
       "CD4+T (cells/ul)            0\n",
       "NK (cells/ul)               0\n",
       "CD19+ (cells/ul)            0\n",
       "CD45+ (cells/ul)            0\n",
       "Age                         0\n",
       "Sex 0M1F                    0\n",
       "Mono CD64+MFI (cells/ul)    0\n",
       "dtype: int64"
      ]
     },
     "execution_count": 9,
     "metadata": {},
     "output_type": "execute_result"
    }
   ],
   "source": [
    "# supply the dropped data.\n",
    "train[numerical_fea] = train[numerical_fea].fillna(train[numerical_fea].mean())\n",
    "train.isnull().sum()"
   ]
  },
  {
   "cell_type": "markdown",
   "id": "56c7c0d9",
   "metadata": {},
   "source": [
    "### split the dataset"
   ]
  },
  {
   "cell_type": "code",
   "execution_count": 10,
   "id": "f5907dad",
   "metadata": {},
   "outputs": [],
   "source": [
    "train_x,val_x,train_y,val_y = train_test_split(train,label,test_size=0.2,random_state=0)"
   ]
  },
  {
   "cell_type": "code",
   "execution_count": 11,
   "id": "9acdf7dd",
   "metadata": {},
   "outputs": [
    {
     "data": {
      "text/html": [
       "<div>\n",
       "<style scoped>\n",
       "    .dataframe tbody tr th:only-of-type {\n",
       "        vertical-align: middle;\n",
       "    }\n",
       "\n",
       "    .dataframe tbody tr th {\n",
       "        vertical-align: top;\n",
       "    }\n",
       "\n",
       "    .dataframe thead th {\n",
       "        text-align: right;\n",
       "    }\n",
       "</style>\n",
       "<table border=\"1\" class=\"dataframe\">\n",
       "  <thead>\n",
       "    <tr style=\"text-align: right;\">\n",
       "      <th></th>\n",
       "      <th>MO HLADR+ MFI (cells/ul)</th>\n",
       "      <th>Neu CD64+MFI (cells/ul)</th>\n",
       "      <th>CD3+T (cells/ul)</th>\n",
       "      <th>CD8+T (cells/ul)</th>\n",
       "      <th>CD4+T (cells/ul)</th>\n",
       "      <th>NK (cells/ul)</th>\n",
       "      <th>CD19+ (cells/ul)</th>\n",
       "      <th>CD45+ (cells/ul)</th>\n",
       "      <th>Age</th>\n",
       "      <th>Sex 0M1F</th>\n",
       "      <th>Mono CD64+MFI (cells/ul)</th>\n",
       "    </tr>\n",
       "  </thead>\n",
       "  <tbody>\n",
       "    <tr>\n",
       "      <th>75</th>\n",
       "      <td>1306.0</td>\n",
       "      <td>114.0</td>\n",
       "      <td>1298.62</td>\n",
       "      <td>647.53</td>\n",
       "      <td>608.43</td>\n",
       "      <td>254.15</td>\n",
       "      <td>90.64</td>\n",
       "      <td>1648.75</td>\n",
       "      <td>32</td>\n",
       "      <td>0</td>\n",
       "      <td>1589.0</td>\n",
       "    </tr>\n",
       "    <tr>\n",
       "      <th>42</th>\n",
       "      <td>602.0</td>\n",
       "      <td>98.0</td>\n",
       "      <td>770.62</td>\n",
       "      <td>499.81</td>\n",
       "      <td>276.71</td>\n",
       "      <td>214.92</td>\n",
       "      <td>76.34</td>\n",
       "      <td>1071.42</td>\n",
       "      <td>49</td>\n",
       "      <td>1</td>\n",
       "      <td>1566.0</td>\n",
       "    </tr>\n",
       "    <tr>\n",
       "      <th>22</th>\n",
       "      <td>860.0</td>\n",
       "      <td>30.0</td>\n",
       "      <td>782.02</td>\n",
       "      <td>362.71</td>\n",
       "      <td>365.66</td>\n",
       "      <td>318.91</td>\n",
       "      <td>110.73</td>\n",
       "      <td>1215.60</td>\n",
       "      <td>41</td>\n",
       "      <td>1</td>\n",
       "      <td>727.0</td>\n",
       "    </tr>\n",
       "    <tr>\n",
       "      <th>6</th>\n",
       "      <td>1517.0</td>\n",
       "      <td>76.0</td>\n",
       "      <td>813.73</td>\n",
       "      <td>541.23</td>\n",
       "      <td>276.28</td>\n",
       "      <td>258.81</td>\n",
       "      <td>82.81</td>\n",
       "      <td>1179.27</td>\n",
       "      <td>42</td>\n",
       "      <td>0</td>\n",
       "      <td>1784.0</td>\n",
       "    </tr>\n",
       "    <tr>\n",
       "      <th>61</th>\n",
       "      <td>1047.0</td>\n",
       "      <td>76.0</td>\n",
       "      <td>1529.16</td>\n",
       "      <td>664.01</td>\n",
       "      <td>860.33</td>\n",
       "      <td>249.25</td>\n",
       "      <td>155.90</td>\n",
       "      <td>1999.74</td>\n",
       "      <td>34</td>\n",
       "      <td>0</td>\n",
       "      <td>1154.0</td>\n",
       "    </tr>\n",
       "  </tbody>\n",
       "</table>\n",
       "</div>"
      ],
      "text/plain": [
       "    MO HLADR+ MFI (cells/ul)  Neu CD64+MFI (cells/ul)  CD3+T (cells/ul)  \\\n",
       "75                    1306.0                    114.0           1298.62   \n",
       "42                     602.0                     98.0            770.62   \n",
       "22                     860.0                     30.0            782.02   \n",
       "6                     1517.0                     76.0            813.73   \n",
       "61                    1047.0                     76.0           1529.16   \n",
       "\n",
       "    CD8+T (cells/ul)  CD4+T (cells/ul)  NK (cells/ul)  CD19+ (cells/ul)  \\\n",
       "75            647.53            608.43         254.15             90.64   \n",
       "42            499.81            276.71         214.92             76.34   \n",
       "22            362.71            365.66         318.91            110.73   \n",
       "6             541.23            276.28         258.81             82.81   \n",
       "61            664.01            860.33         249.25            155.90   \n",
       "\n",
       "    CD45+ (cells/ul)  Age  Sex 0M1F  Mono CD64+MFI (cells/ul)  \n",
       "75           1648.75   32         0                    1589.0  \n",
       "42           1071.42   49         1                    1566.0  \n",
       "22           1215.60   41         1                     727.0  \n",
       "6            1179.27   42         0                    1784.0  \n",
       "61           1999.74   34         0                    1154.0  "
      ]
     },
     "execution_count": 11,
     "metadata": {},
     "output_type": "execute_result"
    }
   ],
   "source": [
    "train_x.head()"
   ]
  },
  {
   "cell_type": "code",
   "execution_count": 12,
   "id": "c7360c9a",
   "metadata": {},
   "outputs": [
    {
     "data": {
      "text/html": [
       "<div>\n",
       "<style scoped>\n",
       "    .dataframe tbody tr th:only-of-type {\n",
       "        vertical-align: middle;\n",
       "    }\n",
       "\n",
       "    .dataframe tbody tr th {\n",
       "        vertical-align: top;\n",
       "    }\n",
       "\n",
       "    .dataframe thead th {\n",
       "        text-align: right;\n",
       "    }\n",
       "</style>\n",
       "<table border=\"1\" class=\"dataframe\">\n",
       "  <thead>\n",
       "    <tr style=\"text-align: right;\">\n",
       "      <th></th>\n",
       "      <th>label</th>\n",
       "    </tr>\n",
       "  </thead>\n",
       "  <tbody>\n",
       "    <tr>\n",
       "      <th>75</th>\n",
       "      <td>0</td>\n",
       "    </tr>\n",
       "    <tr>\n",
       "      <th>42</th>\n",
       "      <td>0</td>\n",
       "    </tr>\n",
       "    <tr>\n",
       "      <th>22</th>\n",
       "      <td>0</td>\n",
       "    </tr>\n",
       "    <tr>\n",
       "      <th>6</th>\n",
       "      <td>0</td>\n",
       "    </tr>\n",
       "    <tr>\n",
       "      <th>61</th>\n",
       "      <td>0</td>\n",
       "    </tr>\n",
       "  </tbody>\n",
       "</table>\n",
       "</div>"
      ],
      "text/plain": [
       "    label\n",
       "75      0\n",
       "42      0\n",
       "22      0\n",
       "6       0\n",
       "61      0"
      ]
     },
     "execution_count": 12,
     "metadata": {},
     "output_type": "execute_result"
    }
   ],
   "source": [
    "train_y.head()"
   ]
  },
  {
   "cell_type": "markdown",
   "id": "4a2f75fa",
   "metadata": {},
   "source": [
    "## XGBClassifier"
   ]
  },
  {
   "cell_type": "code",
   "execution_count": 13,
   "id": "833d1a9d",
   "metadata": {},
   "outputs": [],
   "source": [
    "def use_XGBClassifier(model, train_x, train_y, val_x, val_y):\n",
    "    model.fit(train_x,train_y)\n",
    "    y_pred = model.predict(val_x)\n",
    "    acc = model.score(val_x, val_y)\n",
    "    classification_report = metrics.classification_report(val_y,y_pred)\n",
    "    confusion_matrix = metrics.confusion_matrix(val_y,y_pred)\n",
    "    print(f\"\\033[1m@avg of accuracy: \\033[0m \\n{acc}\")\n",
    "    print(f\"\\033[1m@classification_report: \\033[0m\\n{classification_report}\")\n",
    "    print(f\"\\033[1m@confusion_matrix: \\033[0m\\n{confusion_matrix}\")\n",
    "    return None\n",
    "\n",
    "def grid_search(model, param, train_x, train_y, cv=5):\n",
    "    gsearch = GridSearchCV(\n",
    "        estimator = model,\n",
    "        param_grid = param,\n",
    "        scoring='roc_auc',\n",
    "        n_jobs=4,\n",
    "        cv=cv)\n",
    "    gsearch.fit(train_x, train_y)\n",
    "    best_param = gsearch.best_params_\n",
    "    print(\"----- grid search -----\")\n",
    "    print(f\"The best param: {best_param}\")\n",
    "    return best_param\n",
    "\n",
    "def get_XGBClassifier(param_dict):\n",
    "    \"\"\"\n",
    "    param_dict: save params of the XGBClassifier\n",
    "    \"\"\"\n",
    "    lr = param_dict.get('learning_rate', 0.1)\n",
    "    n_estimators = param_dict.get('n_estimators', 140)\n",
    "    max_depth = param_dict.get('max_depth', 5)\n",
    "    min_child_weight = param_dict.get('min_child_weight', 1)\n",
    "    gamma = param_dict.get('gamma', 0)\n",
    "    subsample = param_dict.get('subsample', 0.8)\n",
    "    colsample_bytree = param_dict.get('colsample_bytree', 0.8)\n",
    "    nthread = param_dict.get('nthread', 4)\n",
    "    scale_pos_weight = param_dict.get('scale_pos_weight', 1)\n",
    "    \n",
    "    model = xgb.XGBClassifier(\n",
    "        learning_rate =lr,\n",
    "        n_estimators=n_estimators, \n",
    "        max_depth=max_depth,\n",
    "        min_child_weight=min_child_weight,\n",
    "        gamma=gamma,\n",
    "        subsample=subsample,\n",
    "        colsample_bytree=colsample_bytree,\n",
    "        objective= 'binary:logistic',\n",
    "        nthread=nthread,\n",
    "        scale_pos_weight=scale_pos_weight,\n",
    "        eval_metric='logloss',\n",
    "        seed=27)\n",
    "\n",
    "    return model"
   ]
  },
  {
   "cell_type": "code",
   "execution_count": 14,
   "id": "fa427bf3",
   "metadata": {},
   "outputs": [
    {
     "name": "stdout",
     "output_type": "stream",
     "text": [
      "---- baseline -----\n"
     ]
    },
    {
     "name": "stderr",
     "output_type": "stream",
     "text": [
      "/home/yr2/.conda/envs/jupyter/lib/python3.7/site-packages/xgboost/sklearn.py:1224: UserWarning: The use of label encoder in XGBClassifier is deprecated and will be removed in a future release. To remove this warning, do the following: 1) Pass option use_label_encoder=False when constructing XGBClassifier object; and 2) Encode your labels (y) as integers starting with 0, i.e. 0, 1, 2, ..., [num_class - 1].\n",
      "  warnings.warn(label_encoder_deprecation_msg, UserWarning)\n",
      "/home/yr2/.conda/envs/jupyter/lib/python3.7/site-packages/sklearn/utils/validation.py:63: DataConversionWarning: A column-vector y was passed when a 1d array was expected. Please change the shape of y to (n_samples, ), for example using ravel().\n",
      "  return f(*args, **kwargs)\n"
     ]
    },
    {
     "name": "stdout",
     "output_type": "stream",
     "text": [
      "\u001b[1m@avg of accuracy: \u001b[0m \n",
      "0.8333333333333334\n",
      "\u001b[1m@classification_report: \u001b[0m\n",
      "              precision    recall  f1-score   support\n",
      "\n",
      "           0       0.81      1.00      0.90        13\n",
      "           1       1.00      0.40      0.57         5\n",
      "\n",
      "    accuracy                           0.83        18\n",
      "   macro avg       0.91      0.70      0.73        18\n",
      "weighted avg       0.86      0.83      0.81        18\n",
      "\n",
      "\u001b[1m@confusion_matrix: \u001b[0m\n",
      "[[13  0]\n",
      " [ 3  2]]\n"
     ]
    }
   ],
   "source": [
    "param_dict = dict()\n",
    "print(\"---- baseline -----\")\n",
    "model_baseline = get_XGBClassifier(param_dict=param_dict)\n",
    "use_XGBClassifier(model=model_baseline, train_x=train_x, train_y=train_y, val_x=val_x, val_y=val_y)"
   ]
  },
  {
   "cell_type": "code",
   "execution_count": 15,
   "id": "7016b75b",
   "metadata": {},
   "outputs": [
    {
     "name": "stdout",
     "output_type": "stream",
     "text": [
      "----- grid search -----\n",
      "The best param: {'max_depth': 3, 'min_child_weight': 3}\n",
      "{'max_depth': 3, 'min_child_weight': 3}\n",
      "----- max_depth and min_child_weight optimization-----\n",
      "\u001b[1m@avg of accuracy: \u001b[0m \n",
      "0.8888888888888888\n",
      "\u001b[1m@classification_report: \u001b[0m\n",
      "              precision    recall  f1-score   support\n",
      "\n",
      "           0       0.87      1.00      0.93        13\n",
      "           1       1.00      0.60      0.75         5\n",
      "\n",
      "    accuracy                           0.89        18\n",
      "   macro avg       0.93      0.80      0.84        18\n",
      "weighted avg       0.90      0.89      0.88        18\n",
      "\n",
      "\u001b[1m@confusion_matrix: \u001b[0m\n",
      "[[13  0]\n",
      " [ 2  3]]\n"
     ]
    },
    {
     "name": "stderr",
     "output_type": "stream",
     "text": [
      "/home/yr2/.conda/envs/jupyter/lib/python3.7/site-packages/xgboost/sklearn.py:1224: UserWarning: The use of label encoder in XGBClassifier is deprecated and will be removed in a future release. To remove this warning, do the following: 1) Pass option use_label_encoder=False when constructing XGBClassifier object; and 2) Encode your labels (y) as integers starting with 0, i.e. 0, 1, 2, ..., [num_class - 1].\n",
      "  warnings.warn(label_encoder_deprecation_msg, UserWarning)\n",
      "/home/yr2/.conda/envs/jupyter/lib/python3.7/site-packages/sklearn/utils/validation.py:63: DataConversionWarning: A column-vector y was passed when a 1d array was expected. Please change the shape of y to (n_samples, ), for example using ravel().\n",
      "  return f(*args, **kwargs)\n"
     ]
    }
   ],
   "source": [
    "# param optimization\n",
    "param_test1 = {\n",
    "'max_depth':[i for i in range(3,10,2)],\n",
    "'min_child_weight':[i for i in range(1,6,2)]\n",
    "}\n",
    "param_after_1 = grid_search(model=model_baseline, param=param_test1, train_x=train_x, train_y=train_y)\n",
    "param_dict.update(param_after_1)\n",
    "print(param_dict)\n",
    "\n",
    "print(\"----- max_depth and min_child_weight optimization-----\")\n",
    "model_opt_1 = get_XGBClassifier(param_dict)\n",
    "use_XGBClassifier(model=model_opt_1, train_x=train_x, train_y=train_y, val_x=val_x, val_y=val_y)"
   ]
  },
  {
   "cell_type": "code",
   "execution_count": 16,
   "id": "ce8b9d88",
   "metadata": {},
   "outputs": [
    {
     "name": "stdout",
     "output_type": "stream",
     "text": [
      "----- grid search -----\n",
      "The best param: {'gamma': 0.0}\n",
      "{'max_depth': 3, 'min_child_weight': 3, 'gamma': 0.0}\n",
      "----- gamma optimization-----\n",
      "\u001b[1m@avg of accuracy: \u001b[0m \n",
      "0.8888888888888888\n",
      "\u001b[1m@classification_report: \u001b[0m\n",
      "              precision    recall  f1-score   support\n",
      "\n",
      "           0       0.87      1.00      0.93        13\n",
      "           1       1.00      0.60      0.75         5\n",
      "\n",
      "    accuracy                           0.89        18\n",
      "   macro avg       0.93      0.80      0.84        18\n",
      "weighted avg       0.90      0.89      0.88        18\n",
      "\n",
      "\u001b[1m@confusion_matrix: \u001b[0m\n",
      "[[13  0]\n",
      " [ 2  3]]\n"
     ]
    },
    {
     "name": "stderr",
     "output_type": "stream",
     "text": [
      "/home/yr2/.conda/envs/jupyter/lib/python3.7/site-packages/xgboost/sklearn.py:1224: UserWarning: The use of label encoder in XGBClassifier is deprecated and will be removed in a future release. To remove this warning, do the following: 1) Pass option use_label_encoder=False when constructing XGBClassifier object; and 2) Encode your labels (y) as integers starting with 0, i.e. 0, 1, 2, ..., [num_class - 1].\n",
      "  warnings.warn(label_encoder_deprecation_msg, UserWarning)\n",
      "/home/yr2/.conda/envs/jupyter/lib/python3.7/site-packages/sklearn/utils/validation.py:63: DataConversionWarning: A column-vector y was passed when a 1d array was expected. Please change the shape of y to (n_samples, ), for example using ravel().\n",
      "  return f(*args, **kwargs)\n"
     ]
    }
   ],
   "source": [
    "param_test3 = {\n",
    " 'gamma':[i/10.0 for i in range(0,5)]\n",
    "}\n",
    "param_after_3 = grid_search(model=model_opt_1, param=param_test3, train_x=train_x, train_y=train_y)\n",
    "param_dict.update(param_after_3)\n",
    "print(param_dict)\n",
    "\n",
    "print(\"----- gamma optimization-----\")\n",
    "model_opt_3 = get_XGBClassifier(param_dict)\n",
    "use_XGBClassifier(model=model_opt_3, train_x=train_x, train_y=train_y, val_x=val_x, val_y=val_y)"
   ]
  },
  {
   "cell_type": "code",
   "execution_count": 17,
   "id": "d6af729e",
   "metadata": {},
   "outputs": [
    {
     "name": "stdout",
     "output_type": "stream",
     "text": [
      "----- grid search -----\n",
      "The best param: {'colsample_bytree': 0.6, 'subsample': 0.9}\n",
      "{'max_depth': 3, 'min_child_weight': 3, 'gamma': 0.0, 'colsample_bytree': 0.6, 'subsample': 0.9}\n",
      "----- gamma optimization-----\n",
      "\u001b[1m@avg of accuracy: \u001b[0m \n",
      "0.8888888888888888\n",
      "\u001b[1m@classification_report: \u001b[0m\n",
      "              precision    recall  f1-score   support\n",
      "\n",
      "           0       0.87      1.00      0.93        13\n",
      "           1       1.00      0.60      0.75         5\n",
      "\n",
      "    accuracy                           0.89        18\n",
      "   macro avg       0.93      0.80      0.84        18\n",
      "weighted avg       0.90      0.89      0.88        18\n",
      "\n",
      "\u001b[1m@confusion_matrix: \u001b[0m\n",
      "[[13  0]\n",
      " [ 2  3]]\n"
     ]
    },
    {
     "name": "stderr",
     "output_type": "stream",
     "text": [
      "/home/yr2/.conda/envs/jupyter/lib/python3.7/site-packages/xgboost/sklearn.py:1224: UserWarning: The use of label encoder in XGBClassifier is deprecated and will be removed in a future release. To remove this warning, do the following: 1) Pass option use_label_encoder=False when constructing XGBClassifier object; and 2) Encode your labels (y) as integers starting with 0, i.e. 0, 1, 2, ..., [num_class - 1].\n",
      "  warnings.warn(label_encoder_deprecation_msg, UserWarning)\n",
      "/home/yr2/.conda/envs/jupyter/lib/python3.7/site-packages/sklearn/utils/validation.py:63: DataConversionWarning: A column-vector y was passed when a 1d array was expected. Please change the shape of y to (n_samples, ), for example using ravel().\n",
      "  return f(*args, **kwargs)\n"
     ]
    }
   ],
   "source": [
    "param_test4 = {\n",
    " 'subsample':[i/10.0 for i in range(6,10)],\n",
    " 'colsample_bytree':[i/10.0 for i in range(6,10)]\n",
    "}\n",
    "param_after_4 = grid_search(model=model_opt_3, param=param_test4, train_x=train_x, train_y=train_y)\n",
    "param_dict.update(param_after_4)\n",
    "print(param_dict)\n",
    "\n",
    "print(\"----- gamma optimization-----\")\n",
    "model_opt_4 = get_XGBClassifier(param_dict)\n",
    "use_XGBClassifier(model=model_opt_4, train_x=train_x, train_y=train_y, val_x=val_x, val_y=val_y)"
   ]
  },
  {
   "cell_type": "code",
   "execution_count": 18,
   "id": "1dcddea5",
   "metadata": {},
   "outputs": [
    {
     "name": "stdout",
     "output_type": "stream",
     "text": [
      "----- grid search -----\n",
      "The best param: {'reg_alpha': 1e-05}\n",
      "{'max_depth': 3, 'min_child_weight': 3, 'gamma': 0.0, 'colsample_bytree': 0.6, 'subsample': 0.9, 'reg_alpha': 1e-05}\n",
      "----- gamma optimization-----\n",
      "\u001b[1m@avg of accuracy: \u001b[0m \n",
      "0.8888888888888888\n",
      "\u001b[1m@classification_report: \u001b[0m\n",
      "              precision    recall  f1-score   support\n",
      "\n",
      "           0       0.87      1.00      0.93        13\n",
      "           1       1.00      0.60      0.75         5\n",
      "\n",
      "    accuracy                           0.89        18\n",
      "   macro avg       0.93      0.80      0.84        18\n",
      "weighted avg       0.90      0.89      0.88        18\n",
      "\n",
      "\u001b[1m@confusion_matrix: \u001b[0m\n",
      "[[13  0]\n",
      " [ 2  3]]\n"
     ]
    },
    {
     "name": "stderr",
     "output_type": "stream",
     "text": [
      "/home/yr2/.conda/envs/jupyter/lib/python3.7/site-packages/xgboost/sklearn.py:1224: UserWarning: The use of label encoder in XGBClassifier is deprecated and will be removed in a future release. To remove this warning, do the following: 1) Pass option use_label_encoder=False when constructing XGBClassifier object; and 2) Encode your labels (y) as integers starting with 0, i.e. 0, 1, 2, ..., [num_class - 1].\n",
      "  warnings.warn(label_encoder_deprecation_msg, UserWarning)\n",
      "/home/yr2/.conda/envs/jupyter/lib/python3.7/site-packages/sklearn/utils/validation.py:63: DataConversionWarning: A column-vector y was passed when a 1d array was expected. Please change the shape of y to (n_samples, ), for example using ravel().\n",
      "  return f(*args, **kwargs)\n"
     ]
    }
   ],
   "source": [
    "param_test6 = {\n",
    " 'reg_alpha':[1e-5, 1e-2, 0.1, 1, 100]\n",
    "}\n",
    "param_after_6 = grid_search(model=model_opt_4, param=param_test6, train_x=train_x, train_y=train_y)\n",
    "param_dict.update(param_after_6)\n",
    "print(param_dict)\n",
    "\n",
    "print(\"----- gamma optimization-----\")\n",
    "model_opt_6 = get_XGBClassifier(param_dict)\n",
    "use_XGBClassifier(model=model_opt_6, train_x=train_x, train_y=train_y, val_x=val_x, val_y=val_y)"
   ]
  },
  {
   "cell_type": "code",
   "execution_count": 20,
   "id": "82ef2d6c",
   "metadata": {},
   "outputs": [
    {
     "name": "stdout",
     "output_type": "stream",
     "text": [
      "acc on train: 0.9420\n",
      "acc on val: 0.8889\n"
     ]
    }
   ],
   "source": [
    "best_model = get_XGBClassifier(param_dict)\n",
    "best_model.fit(train_x,train_y)\n",
    "\n",
    "pred1 = best_model.predict(train_x)\n",
    "accuracy1 = metrics.accuracy_score(train_y,pred1)\n",
    "print('acc on train: %.4f'%accuracy1)\n",
    "\n",
    "pred2 = best_model.predict(val_x)\n",
    "accuracy2 = metrics.accuracy_score(val_y,pred2)\n",
    "print('acc on val: %.4f'%accuracy2)"
   ]
  },
  {
   "cell_type": "code",
   "execution_count": 22,
   "id": "63c06b4d",
   "metadata": {},
   "outputs": [
    {
     "data": {
      "text/html": [
       "<div>\n",
       "<style scoped>\n",
       "    .dataframe tbody tr th:only-of-type {\n",
       "        vertical-align: middle;\n",
       "    }\n",
       "\n",
       "    .dataframe tbody tr th {\n",
       "        vertical-align: top;\n",
       "    }\n",
       "\n",
       "    .dataframe thead th {\n",
       "        text-align: right;\n",
       "    }\n",
       "</style>\n",
       "<table border=\"1\" class=\"dataframe\">\n",
       "  <thead>\n",
       "    <tr style=\"text-align: right;\">\n",
       "      <th></th>\n",
       "      <th>id</th>\n",
       "      <th>label</th>\n",
       "    </tr>\n",
       "  </thead>\n",
       "  <tbody>\n",
       "    <tr>\n",
       "      <th>0</th>\n",
       "      <td>0</td>\n",
       "      <td>0</td>\n",
       "    </tr>\n",
       "    <tr>\n",
       "      <th>1</th>\n",
       "      <td>1</td>\n",
       "      <td>0</td>\n",
       "    </tr>\n",
       "    <tr>\n",
       "      <th>2</th>\n",
       "      <td>2</td>\n",
       "      <td>0</td>\n",
       "    </tr>\n",
       "    <tr>\n",
       "      <th>3</th>\n",
       "      <td>3</td>\n",
       "      <td>0</td>\n",
       "    </tr>\n",
       "    <tr>\n",
       "      <th>4</th>\n",
       "      <td>4</td>\n",
       "      <td>0</td>\n",
       "    </tr>\n",
       "  </tbody>\n",
       "</table>\n",
       "</div>"
      ],
      "text/plain": [
       "   id  label\n",
       "0   0      0\n",
       "1   1      0\n",
       "2   2      0\n",
       "3   3      0\n",
       "4   4      0"
      ]
     },
     "execution_count": 22,
     "metadata": {},
     "output_type": "execute_result"
    }
   ],
   "source": [
    "# save result\n",
    "result = best_model.predict(test)\n",
    "result = pd.DataFrame(result)\n",
    "result.columns = list('a')\n",
    "result = result.rename(columns={'a':'label'})\n",
    "result['id'] = result.index\n",
    "result = result[['id','label']]\n",
    "result.to_csv(\"result/result.csv\", index=False)\n",
    "result.head()"
   ]
  },
  {
   "cell_type": "markdown",
   "id": "375ce5b4",
   "metadata": {},
   "source": [
    "### Other model"
   ]
  },
  {
   "cell_type": "code",
   "execution_count": 23,
   "id": "14f0e33d",
   "metadata": {},
   "outputs": [
    {
     "name": "stderr",
     "output_type": "stream",
     "text": [
      "/home/yr2/.conda/envs/jupyter/lib/python3.7/site-packages/sklearn/utils/validation.py:63: DataConversionWarning: A column-vector y was passed when a 1d array was expected. Please change the shape of y to (n_samples, ), for example using ravel().\n",
      "  return f(*args, **kwargs)\n",
      "/home/yr2/.conda/envs/jupyter/lib/python3.7/site-packages/sklearn/linear_model/_logistic.py:765: ConvergenceWarning: lbfgs failed to converge (status=1):\n",
      "STOP: TOTAL NO. of ITERATIONS REACHED LIMIT.\n",
      "\n",
      "Increase the number of iterations (max_iter) or scale the data as shown in:\n",
      "    https://scikit-learn.org/stable/modules/preprocessing.html\n",
      "Please also refer to the documentation for alternative solver options:\n",
      "    https://scikit-learn.org/stable/modules/linear_model.html#logistic-regression\n",
      "  extra_warning_msg=_LOGISTIC_SOLVER_CONVERGENCE_MSG)\n"
     ]
    },
    {
     "data": {
      "text/plain": [
       "LogisticRegression()"
      ]
     },
     "execution_count": 23,
     "metadata": {},
     "output_type": "execute_result"
    }
   ],
   "source": [
    "lr_model = LogisticRegression()\n",
    "lr_model.fit(train_x,train_y)"
   ]
  },
  {
   "cell_type": "code",
   "execution_count": 24,
   "id": "bcd545ba",
   "metadata": {},
   "outputs": [
    {
     "name": "stdout",
     "output_type": "stream",
     "text": [
      "acc on train: 0.9710\n",
      "acc on val: 0.8889\n"
     ]
    }
   ],
   "source": [
    "pred1 = lr_model.predict(train_x)\n",
    "accuracy1 = accuracy_score(train_y,pred1)\n",
    "print('acc on train: %.4f'%accuracy1)\n",
    "\n",
    "pred2 = lr_model.predict(val_x)\n",
    "accuracy2 = accuracy_score(val_y,pred2)\n",
    "print('acc on val: %.4f'%accuracy2)"
   ]
  },
  {
   "cell_type": "code",
   "execution_count": 25,
   "id": "40101fb6",
   "metadata": {},
   "outputs": [
    {
     "name": "stdout",
     "output_type": "stream",
     "text": [
      "acc on train: 0.9710\n",
      "acc on val: 0.8333\n"
     ]
    },
    {
     "name": "stderr",
     "output_type": "stream",
     "text": [
      "/home/yr2/.conda/envs/jupyter/lib/python3.7/site-packages/ipykernel_launcher.py:2: DataConversionWarning: A column-vector y was passed when a 1d array was expected. Please change the shape of y to (n_samples,), for example using ravel().\n",
      "  \n"
     ]
    }
   ],
   "source": [
    "clf = RandomForestClassifier(max_depth=2, random_state=0)\n",
    "clf.fit(train_x,train_y)\n",
    "\n",
    "pred1 = clf.predict(train_x)\n",
    "accuracy1 = accuracy_score(train_y,pred1)\n",
    "print('acc on train: %.4f'%accuracy1)\n",
    "pred_y_val = clf.predict(val_x)\n",
    "accuracy = accuracy_score(val_y, pred_y_val)\n",
    "print(\"acc on val: %.4f\" %accuracy)"
   ]
  },
  {
   "cell_type": "code",
   "execution_count": null,
   "id": "9e16ce44",
   "metadata": {},
   "outputs": [],
   "source": []
  }
 ],
 "metadata": {
  "kernelspec": {
   "display_name": "Python 3",
   "language": "python",
   "name": "python3"
  },
  "language_info": {
   "codemirror_mode": {
    "name": "ipython",
    "version": 3
   },
   "file_extension": ".py",
   "mimetype": "text/x-python",
   "name": "python",
   "nbconvert_exporter": "python",
   "pygments_lexer": "ipython3",
   "version": "3.7.1"
  }
 },
 "nbformat": 4,
 "nbformat_minor": 5
}
